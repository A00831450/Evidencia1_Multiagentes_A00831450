{
 "cells": [
  {
   "cell_type": "markdown",
   "metadata": {},
   "source": [
    "### Franco Sotomayor Casale A00831450\n",
    "### Alberto Estrada Guerrero A01276671\n",
    "### Marcelo Márquez Murillo A01720588\n",
    "### Edgar Alexandro Castillo Palacios A008305568\n",
    "### Arturo Garza Campuzano A00828096\n",
    "### Jose Gerardo Cantu Garcia A00830760"
   ]
  },
  {
   "cell_type": "markdown",
   "metadata": {},
   "source": [
    "### **Imports**"
   ]
  },
  {
   "cell_type": "code",
   "execution_count": 173,
   "metadata": {},
   "outputs": [],
   "source": [
    "from mesa import Agent, Model\n",
    "from mesa.space import MultiGrid\n",
    "from mesa.time import SimultaneousActivation\n",
    "from mesa.datacollection import DataCollector\n",
    "\n",
    "%matplotlib inline\n",
    "import matplotlib\n",
    "import matplotlib.pyplot as plt\n",
    "import matplotlib.animation as animation\n",
    "from matplotlib.colors import LinearSegmentedColormap\n",
    "plt.rcParams[\"animation.html\"] = \"jshtml\"\n",
    "matplotlib.rcParams['animation.embed_limit'] = 2**128\n",
    "\n",
    "import numpy as np\n",
    "import pandas as pd\n",
    "import random\n",
    "import time\n",
    "import datetime"
   ]
  },
  {
   "cell_type": "markdown",
   "metadata": {},
   "source": [
    "### **Room Matrix**"
   ]
  },
  {
   "cell_type": "code",
   "execution_count": 174,
   "metadata": {},
   "outputs": [],
   "source": [
    "def get_room(model):\n",
    "    room = np.zeros((model.grid.width, model.grid.height))\n",
    "    for cell in model.grid.coord_iter():\n",
    "        cell_content, x, y = cell\n",
    "        for content in cell_content:\n",
    "            if isinstance(content, Robot) and content.grabbed_box:\n",
    "                room[x][y] = 1\n",
    "            elif isinstance(content, Robot) and not content.grabbed_box:\n",
    "                room[x][y] = 2\n",
    "            elif isinstance(content, Pallet) and content.box_count == 0:\n",
    "                room[x][y] = 3\n",
    "            elif isinstance(content, Pallet) and content.box_count == 1:\n",
    "                room[x][y] = 4\n",
    "            elif isinstance(content, Pallet) and content.box_count == 2:\n",
    "                room[x][y] = 5\n",
    "            elif isinstance(content, Pallet) and content.box_count == 3:\n",
    "                room[x][y] = 6\n",
    "            elif isinstance(content, Pallet) and content.box_count == 4:\n",
    "                room[x][y] = 7\n",
    "            elif isinstance(content, Pallet) and content.box_count == 5:\n",
    "                room[x][y] = 8\n",
    "            elif isinstance(content, Box):\n",
    "                room[x][y] = 9\n",
    "\n",
    "    return room"
   ]
  },
  {
   "cell_type": "markdown",
   "metadata": {},
   "source": [
    "### **Pallet Class**"
   ]
  },
  {
   "cell_type": "code",
   "execution_count": 175,
   "metadata": {},
   "outputs": [],
   "source": [
    "class Pallet(Agent):\n",
    "    total_boxes = 0\n",
    "\n",
    "    def __init__(self, unique_id: int, model: Model):\n",
    "        super().__init__(unique_id, model)\n",
    "        self.box_count = 0"
   ]
  },
  {
   "cell_type": "markdown",
   "metadata": {},
   "source": [
    "### **Box Class**"
   ]
  },
  {
   "cell_type": "code",
   "execution_count": 176,
   "metadata": {},
   "outputs": [],
   "source": [
    "class Box(Agent):\n",
    "    def __init__(self, unique_id: int, model: Model):\n",
    "        super().__init__(unique_id, model)\n",
    "        self.is_grabbed = False\n",
    "        self.on_pallet = False\n",
    "        self.pallet_pos = None\n",
    "\n",
    "    def grab_box(self):\n",
    "        self.model.grid.remove_agent(self)\n",
    "\n",
    "    def place_box(self):\n",
    "        y, x = self.pallet_pos\n",
    "        pallet = None\n",
    "        for content in self.model.grid[y][x]:\n",
    "            if isinstance(content, Pallet):\n",
    "                pallet = content\n",
    "                self.model.grid.remove_agent(content)\n",
    "                break\n",
    "        self.model.grid.place_agent(self, self.pallet_pos)\n",
    "        self.model.grid.place_agent(pallet, self.pallet_pos)\n",
    "        self.on_pallet = True"
   ]
  },
  {
   "cell_type": "markdown",
   "metadata": {},
   "source": [
    "### **Robot Class**"
   ]
  },
  {
   "cell_type": "code",
   "execution_count": 177,
   "metadata": {
    "collapsed": false,
    "jupyter": {
     "outputs_hidden": false
    }
   },
   "outputs": [],
   "source": [
    "class Robot(Agent):\n",
    "    movements = 0\n",
    "\n",
    "    def __init__(self, unique_id: int, model: Model):\n",
    "        super().__init__(unique_id, model)\n",
    "        self.grabbed_box = False\n",
    "        self.new_pos = None\n",
    "        self.box = None\n",
    "\n",
    "    def step(self):\n",
    "        neighbors = self.model.grid.get_neighbors(\n",
    "            self.pos,\n",
    "            moore=False,\n",
    "            include_center=True\n",
    "        )\n",
    "\n",
    "        for neighbor in neighbors:\n",
    "            if self.grabbed_box:\n",
    "                if isinstance(neighbor, Pallet) and neighbor.box_count < 5:\n",
    "                    self.box.pallet_pos = neighbor.pos\n",
    "                    neighbor.box_count += 1\n",
    "                    Pallet.total_boxes += 1\n",
    "                    self.grabbed_box = False\n",
    "                    self.box.place_box()\n",
    "                    self.box = None\n",
    "                    break\n",
    "            else:\n",
    "                if isinstance(neighbor, Box) and not neighbor.is_grabbed:\n",
    "                    self.grabbed_box = True\n",
    "                    self.box = neighbor\n",
    "                    neighbor.is_grabbed = True\n",
    "                    neighbor.grab_box()\n",
    "                    break\n",
    "\n",
    "    def advance(self):\n",
    "        n_position = None\n",
    "        found_pos = False\n",
    "\n",
    "        neighborhood = self.model.grid.get_neighborhood(\n",
    "            self.pos,\n",
    "            moore=True,\n",
    "            include_center=False\n",
    "        )\n",
    "\n",
    "        while not found_pos: # Mientras que no hemos encontrado una nueva dirección\n",
    "            if len(neighborhood) != 0:\n",
    "                n_position = self.random.choice(neighborhood)\n",
    "                y, x = n_position\n",
    "                cell = self.model.grid[y][x]\n",
    "                can_move = True\n",
    "                for obj in cell:\n",
    "                    if isinstance(obj, Robot):\n",
    "                        neighborhood.remove(n_position)\n",
    "                        can_move = False\n",
    "                        break\n",
    "                    elif isinstance(obj, Box) and self.grabbed_box:\n",
    "                        neighborhood.remove(n_position)\n",
    "                        can_move = False\n",
    "                        break\n",
    "                    elif isinstance(obj, Pallet) and not self.grabbed_box:\n",
    "                        # print(\"Encontre tarima pero no tengo caja\")\n",
    "                        neighborhood.remove(n_position)\n",
    "                        can_move = False\n",
    "                        break\n",
    "                    elif isinstance(obj, Pallet) and obj.box_count > 4:\n",
    "                        neighborhood.remove(n_position)\n",
    "                        can_move = False\n",
    "                        break\n",
    "\n",
    "                if can_move: # Si encontramos dirección vacía o con caja sin agarrar\n",
    "                    found_pos = True\n",
    "\n",
    "            else:\n",
    "                # print(\"Found no new position\")\n",
    "                n_position = self.pos\n",
    "                found_pos = True\n",
    "\n",
    "        self.new_pos = n_position\n",
    "        self.model.grid.move_agent(self, self.new_pos)\n",
    "        Robot.movements += 1"
   ]
  },
  {
   "cell_type": "markdown",
   "metadata": {},
   "source": [
    "### **Room Class**"
   ]
  },
  {
   "cell_type": "code",
   "execution_count": 178,
   "metadata": {
    "collapsed": false,
    "jupyter": {
     "outputs_hidden": false
    }
   },
   "outputs": [],
   "source": [
    "class Room(Model):\n",
    "    def __init__(self, width, height, num_boxes, num_pallets):\n",
    "        self.num_robots = 5\n",
    "        self.K = num_boxes\n",
    "        self.num_pallets = num_pallets\n",
    "        self.grid = MultiGrid(width=width, height=height, torus=False)\n",
    "        self.schedule = SimultaneousActivation(self)\n",
    "        self.counter = 0\n",
    "\n",
    "        # Spawn the robots\n",
    "        for num in range(self.num_robots):\n",
    "            self.spawn_obj(Robot, num)\n",
    "\n",
    "        # Spawn the boxes\n",
    "        for num in range(self.K):\n",
    "            self.spawn_obj(Box, num+self.num_robots)\n",
    "\n",
    "        # Spawn the pallets\n",
    "        for num in range(self.num_pallets):\n",
    "            self.spawn_obj(Pallet, num+self.num_robots+self.K)\n",
    "\n",
    "        self.datacollector = DataCollector(\n",
    "            model_reporters={'Room': get_room}\n",
    "        )\n",
    "\n",
    "    def spawn_obj(self, class_to_use, obj_id):\n",
    "        empty_cells_list = list(self.grid.empties)\n",
    "        empty_cell = self.random.choice(empty_cells_list)\n",
    "        obj_to_spawn = class_to_use(obj_id, self)\n",
    "        self.schedule.add(obj_to_spawn)\n",
    "        self.grid.place_agent(obj_to_spawn, empty_cell)\n",
    "\n",
    "    def step(self):\n",
    "        self.datacollector.collect(self)\n",
    "        self.schedule.step()\n",
    "        self.counter += 1\n",
    "\n",
    "    def all_done(self):\n",
    "        if Pallet.total_boxes == self.K:\n",
    "            return True\n",
    "        else:\n",
    "            return False\n",
    "        # for celda in self.grid.coord_iter():\n",
    "        #     contenido_celda, x, y = celda\n",
    "        #     for contenido in contenido_celda:\n",
    "        #         if isinstance(contenido, Box):\n",
    "        #             if contenido.on_pallet:\n",
    "        #                 break\n",
    "        #             else:\n",
    "        #                 return False\n",
    "        # return True\n"
   ]
  },
  {
   "cell_type": "markdown",
   "metadata": {},
   "source": [
    "### **Run Model**"
   ]
  },
  {
   "cell_type": "code",
   "execution_count": 179,
   "metadata": {
    "collapsed": false,
    "jupyter": {
     "outputs_hidden": false
    }
   },
   "outputs": [],
   "source": [
    "WIDTH = 10\n",
    "HEIGHT = 10\n",
    "\n",
    "NUM_BOXES = 13\n",
    "if NUM_BOXES % 5 == 0:\n",
    "    NUM_PALLETS = int(NUM_BOXES / 5)\n",
    "else:\n",
    "    NUM_PALLETS = int(NUM_BOXES / 5) +  1\n",
    "\n",
    "start_time = time.time()\n",
    "\n",
    "models = Room(width=WIDTH, height=HEIGHT, num_boxes=NUM_BOXES, num_pallets=NUM_PALLETS)\n",
    "\n",
    "while not models.all_done():\n",
    "    models.step()\n",
    "\n",
    "# Imprimimos el tiempo que le tomo correr al modelo\n",
    "total_time = str(datetime.timedelta(seconds = (time.time() - start_time)))"
   ]
  },
  {
   "cell_type": "markdown",
   "metadata": {},
   "source": [
    "### **Visualization**"
   ]
  },
  {
   "cell_type": "code",
   "execution_count": 180,
   "metadata": {
    "collapsed": false,
    "jupyter": {
     "outputs_hidden": false
    }
   },
   "outputs": [],
   "source": [
    "all_rooms = models.datacollector.get_model_vars_dataframe()"
   ]
  },
  {
   "cell_type": "code",
   "execution_count": 181,
   "metadata": {
    "collapsed": false,
    "jupyter": {
     "outputs_hidden": false
    }
   },
   "outputs": [],
   "source": [
    "%%capture\n",
    "\n",
    "fig,axs = plt.subplots(figsize=(7,7))\n",
    "axs.set_xticks([])\n",
    "axs.set_yticks([])\n",
    "\n",
    "#         Floor,  Robot-box  Robot  Pallet  Pallet1   Pallet2   Pallet3   Pallet4   Pallet5   Box\n",
    "colors = [\"white\", \"green\", \"blue\", \"brown\", \"pink\", \"purple\", \"violet\", \"magenta\", \"black\", \"orange\"]\n",
    "color_map = LinearSegmentedColormap.from_list('', colors, len(colors))\n",
    "\n",
    "patch = plt.imshow(all_rooms.iloc[0][0], cmap=color_map, vmin=0, vmax=len(colors)-1)\n",
    "\n",
    "def animate(i):\n",
    "    patch.set_data(all_rooms.iloc[i][0])\n",
    "\n",
    "anim = animation.FuncAnimation(fig, animate, frames=len(all_rooms))"
   ]
  },
  {
   "cell_type": "code",
   "execution_count": null,
   "metadata": {
    "collapsed": false,
    "jupyter": {
     "outputs_hidden": false
    },
    "pycharm": {
     "is_executing": true
    }
   },
   "outputs": [],
   "source": [
    "anim"
   ]
  },
  {
   "cell_type": "code",
   "execution_count": null,
   "metadata": {
    "collapsed": false,
    "jupyter": {
     "outputs_hidden": false
    },
    "pycharm": {
     "is_executing": true
    }
   },
   "outputs": [],
   "source": [
    "print(f\"Número de movimientos realizados por los robots: {Robot.movements}\")\n",
    "print(f\"Tiempo para que todas las cajas estén en pilas: {total_time}\")"
   ]
  },
  {
   "cell_type": "markdown",
   "metadata": {},
   "source": [
    "#### **Analiza si existe una estrategia que podría disminuir el tiempo dedicado, así como la cantidad de movimientos realizados. ¿Cómo sería? Descríbela.**\n",
    "Para la elaboración de este código se implementaron métodos de búsqueda sobre un agente hacia sus vecinos o incluso iteraciones sobre la cuadrícula entera; lo anterior con el fin de conseguir información sobre sus celdas de una manera más eficiente.\n",
    "Por ejemplo, la manera en que corre nuestro código es que se sigue iterando hasta que todas las cajas estén en una de las tarimas. Para revisar esto, originalmente se utilizaba una función la cual iteraba sobre toda la cuadrícula primero iterando sobre la lista que comprende la matriz y, por consiguiente, dentro del conjunto de listas anidadas que conforman la dimensión de esta teniendo por ende una complejidad de O(n^2). No obstante, la lógica implementada en la presente simulación aborda el problema en cuestión guardando en la clase de tarimas una variable la cual se sumaría cada vez se agrega una nueva caja haciendo uso de una complejidad de O(1) por medio de declaraciones \"If/Else\". Esto ayuda a disminuir la cantidad de tiempo que toma en correr el código.\n",
    "Una estrategia que se podría implementar para disminuir ambos el tiempo de ejecución y la cantidad total de movimientos realizados sería a través de la implementación de bloqueos de las zonas donde se encuentra una tarima cuya capacidad esté al límite en un alcance de 3x3 celdas donde la tarima se encuentre en el centro de tal manera que un robot no pueda pasar por esa zona y hacer movimientos en vano.\n",
    "Otra estrategia que se puede llevar a cabo sería hacer los movimientos de los robots aún más inteligentes a través de las siguientes dos maneras: 1) Cuando un robot detecta una en su vecindad, pero dicha caja no es directamente accesible para recoger, que el robot se ponga sobre la caja y agarrarla. 2) Cada instancia del robot tendría una lista de las posiciones de las tarimas y cuando recoge una caja, que identifique la tarima más cercana para llegar a ella y cumplir su tarea."
   ]
  }
 ],
 "metadata": {
  "kernelspec": {
   "display_name": "Python 3 (ipykernel)",
   "language": "python",
   "name": "python3"
  },
  "language_info": {
   "codemirror_mode": {
    "name": "ipython",
    "version": 3
   },
   "file_extension": ".py",
   "mimetype": "text/x-python",
   "name": "python",
   "nbconvert_exporter": "python",
   "pygments_lexer": "ipython3",
   "version": "3.11.0"
  },
  "vscode": {
   "interpreter": {
    "hash": "0264e68d79e1ed83c3dde82fa6cc9ae30cd2c936be72e6f36f114b85594114d3"
   }
  }
 },
 "nbformat": 4,
 "nbformat_minor": 4
}
